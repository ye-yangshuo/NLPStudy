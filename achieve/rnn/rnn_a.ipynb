{
 "cells": [
  {
   "cell_type": "code",
   "execution_count": 2,
   "metadata": {},
   "outputs": [],
   "source": [
    "import numpy as np\n",
    "import torch\n",
    "import torch.nn as nn\n",
    "import torch.optim as optim\n"
   ]
  },
  {
   "cell_type": "code",
   "execution_count": null,
   "metadata": {},
   "outputs": [],
   "source": [
    "#单向单层RNN\n",
    "class TextRNN(nn.Module):\n",
    "    def __init__(self,input_size,hidden_size,worddict_len):\n",
    "        super(TextRNN,self).__init__()\n",
    "        self.input_size = input_size\n",
    "        self.hidden_size = hidden_size\n",
    "        self.worddict_len = worddict_len\n",
    "\n",
    "        #单层循环神经网络\n",
    "        self.rnn = nn.RNN(self.input_size,self.hidden_size) \n",
    "        #全连接层\n",
    "        self.out = nn.Linear(self.hidden_size,self.worddict_len,bias=False)\n",
    "        \n",
    "        #偏置\n",
    "        self.bias = nn.Parameter(torch.zeros(self.worddict_len))\n",
    "\n",
    "    def forward(self,x,hidden):\n",
    "\n",
    "        #转置，将batch_size放到第二维\n",
    "        x=x.transpose(0,1)\n",
    "\n",
    "        outputs , hidden = self.rnn(x,hidden)\n",
    "\n",
    "        #将最后一个时间步的输出作为真正输出\n",
    "        output = outputs[-1]\n",
    "\n",
    "        result = self.out(output)+self.bias\n",
    "\n",
    "        return result\n"
   ]
  },
  {
   "cell_type": "code",
   "execution_count": null,
   "metadata": {},
   "outputs": [],
   "source": [
    "def make_batch(sentences,word_dict,worddict_len,hidden_size):\n",
    "    input_batch = []\n",
    "    input_batch = []\n",
    "    target_batch = []\n",
    "    for se in sentences:\n",
    "        word = se.split()\n",
    "        # 将单词列表的子列表转换为字符串\n",
    "        #列表不能作为字典的键的索引\n",
    "        input = [word_dict[n] for n in word[:-1]]  \n",
    "        target = word_dict[word[-1]]  \n",
    "        input_batch.append(np.eye(worddict_len)[input]) \n",
    "        target_batch.append(target) \n",
    "        batch_size = len(input_batch)\n",
    "        \n",
    "        input_batch = torch.FloatTensor(input_batch)\n",
    "        target_batch = torch.LongTensor(target_batch)\n",
    "    hidden = torch.zeros(1,batch_size,hidden_size)\n",
    "\n",
    "    return input_batch,target_batch,batch_size,hidden \n",
    "    \n",
    "#test\n",
    "# sentences = [\"i like dog\", \"i love coffee\", \"i hate milk\", \"dog hate milk\"]\n",
    "# word_dict = {\"i\": 0, \"like\": 1, \"love\": 2, \"hate\": 3, \"dog\": 4, \"coffee\": 5, \"milk\": 6}\n",
    "# worddict_len = len(word_dict)\n",
    "# input_batch,target_batch = make_batch(sentences,word_dict,worddict_len)\n",
    "# input_batch = torch.Tensor(input_batch)\n",
    "# target_batch = torch.Tensor(target_batch)\n",
    "# print(input_batch.shape)"
   ]
  },
  {
   "cell_type": "code",
   "execution_count": null,
   "metadata": {},
   "outputs": [],
   "source": [
    "sentences = [\"i like dog\", \"i love coffee\", \"i hate milk\", \"dog love i\",\"dog hate milk\"]\n",
    "word_dict = {\"i\": 0, \"like\": 1, \"love\": 2, \"hate\": 3, \"dog\": 4, \"coffee\": 5, \"milk\": 6}\n",
    "worddict_len = len(word_dict)\n",
    "\n",
    "model = TextRNN(input_size=worddict_len,hidden_size=5,n_class=worddict_len)\n",
    "\n",
    "#输入数据的转换\n",
    "input_batch,target_batch,batch_size,hidden= make_batch(sentences,word_dict,worddict_len,hidden_size=model.hidden_size)\n",
    "\n",
    "epochs = 100\n",
    "lr = 0.001\n",
    "criterion = nn.CrossEntropyLoss()\n",
    "optimizer = torch.optim.Adam(model.parameters(),lr=lr)"
   ]
  },
  {
   "cell_type": "code",
   "execution_count": null,
   "metadata": {},
   "outputs": [],
   "source": [
    "#训练模型\n",
    "for epoch in range(epochs):\n",
    "    model.train()\n",
    "    optimizer.zero_grad()\n",
    "    \n",
    "    result = model(input_batch,hidden)\n",
    "\n",
    "    loss = criterion(result,target_batch)\n",
    "    print('Epoch: {}, Loss: {:.4f}'.format(epoch, loss.item()))\n",
    "    loss.backward()\n",
    "    optimizer.step()"
   ]
  },
  {
   "cell_type": "code",
   "execution_count": null,
   "metadata": {},
   "outputs": [],
   "source": [
    "#测试模型\n",
    "model.eval()\n",
    "test_data = [\"i like dog\"]\n",
    "test_batch,target_batch = make_batch(test_data,word_dict,worddict_len)\n",
    "test_batch = torch.FloatTensor(test_batch)\n",
    "hidden = torch.zeros(1,1,model.hidden_size)\n",
    "\n",
    "result = model(test_batch,hidden)\n",
    "print(result)\n",
    "_,predict = torch.max(result,1)\n",
    "print(predict)\n",
    "\n"
   ]
  },
  {
   "cell_type": "code",
   "execution_count": null,
   "metadata": {},
   "outputs": [],
   "source": []
  }
 ],
 "metadata": {
  "kernelspec": {
   "display_name": "nlp",
   "language": "python",
   "name": "python3"
  },
  "language_info": {
   "codemirror_mode": {
    "name": "ipython",
    "version": 3
   },
   "file_extension": ".py",
   "mimetype": "text/x-python",
   "name": "python",
   "nbconvert_exporter": "python",
   "pygments_lexer": "ipython3",
   "version": "3.10.0"
  }
 },
 "nbformat": 4,
 "nbformat_minor": 2
}
