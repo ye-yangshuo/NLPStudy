{
 "cells": [
  {
   "cell_type": "code",
   "execution_count": 1,
   "metadata": {},
   "outputs": [],
   "source": [
    "import numpy as np\n",
    "import torch\n",
    "import torch.nn as nn\n",
    "import torch.optim as optim"
   ]
  },
  {
   "cell_type": "code",
   "execution_count": 29,
   "metadata": {},
   "outputs": [],
   "source": [
    "class MyLSTM(nn.Module):\n",
    "    def __init__(self,input_size,hidden_size,worddict_len):\n",
    "        super(MyLSTM, self).__init__()\n",
    "        self.lstm = nn.LSTM(input_size, hidden_size)\n",
    "\n",
    "        self.linear = nn.Linear(hidden_size, worddict_len,bias=False)\n",
    "\n",
    "        self.bias = nn.Parameter(torch.zeros(worddict_len))\n",
    "\n",
    "    def forward(self, x,hidcell):\n",
    "        x = x.transpose(1,0)\n",
    "        \n",
    "        outputs,hidcell = self.lstm(x,hidcell)\n",
    "        output = outputs[-1]\n",
    "        result = self.linear(output) + self.bias\n",
    "\n",
    "        return result\n",
    "\n",
    "        \n"
   ]
  },
  {
   "cell_type": "code",
   "execution_count": null,
   "metadata": {},
   "outputs": [],
   "source": [
    "def make_batch(sentences,word_dict,worddict_len,hidden_size):\n",
    "    input_batch = []\n",
    "    target_batch = []\n",
    "    for se in sentences:\n",
    "        input = [word_dict[n] for n in se[:-1]]  \n",
    "        target = word_dict[se[-1]]  \n",
    "        input_batch.append(np.eye(worddict_len)[input]) \n",
    "        target_batch.append(target) \n",
    "\n",
    "    batch_size = len(input_batch)\n",
    "    \n",
    "    input_batch = torch.FloatTensor(input_batch)\n",
    "    target_batch = torch.LongTensor(target_batch)\n",
    "    hidden = torch.zeros(1,batch_size,hidden_size)\n",
    "    cell = torch.zeros(1,batch_size,hidden_size)\n",
    "    # 将隐藏状态和细胞状态打包成一个元组\n",
    "    hicell = (hidden, cell)\n",
    "\n",
    "    #返回输入、目标、批次大小和隐藏状态\n",
    "    return input_batch,target_batch,batch_size,hicell \n",
    "    \n",
    "# #test\n",
    "# word_arr = \"abcdefghijklmnopqrstuvwxyz\"\n",
    "# word_dict = {word_arr[i]:i for i in range(len(word_arr))}\n",
    "# worddict_len = len(word_dict)\n",
    "# sequences = [\"make\", \"hate\", \"love\", \"home\", \"star\"]\n",
    "\n",
    "# input_batch,target_batch,batch_size,hicell = make_batch(sequences,word_dict,worddict_len, 128)\n",
    "# print(input_batch.shape)"
   ]
  },
  {
   "cell_type": "code",
   "execution_count": null,
   "metadata": {},
   "outputs": [],
   "source": [
    "word_arr = \"abcdefghijklmnopqrstuvwxyz\"\n",
    "word_dict = {word_arr[i]:i for i in range(len(word_arr))}\n",
    "worddict_len = len(word_dict)\n",
    "print(word_dict)\n",
    "sequences = [\"make\", \"hate\", \"love\", \"home\", \"star\"]\n",
    "\n",
    "hidden_size = 128\n",
    "model = MyLSTM(worddict_len,hidden_size,worddict_len)\n",
    "\n",
    "input_batch,target_batch,batch_size,hicell = make_batch(sequences,word_dict,worddict_len,hidden_size)\n",
    "print(input_batch.shape)"
   ]
  },
  {
   "cell_type": "code",
   "execution_count": null,
   "metadata": {},
   "outputs": [],
   "source": [
    "#训练\n",
    "epochs = 100\n",
    "lr = 0.001\n",
    "criterien = torch.nn.CrossEntropyLoss()\n",
    "optimizer = torch.optim.Adam(model.parameters(),lr=lr)\n",
    "\n",
    "for epoch in range(epochs):\n",
    "    model.train()\n",
    "    optimizer.zero_grad()\n",
    "    result = model(input_batch,hicell)\n",
    "    loss = criterien(result,target_batch)\n",
    "    loss.backward()\n",
    "    optimizer.step()\n",
    "    print(\"epoch:{},loss:{}\".format(epoch,loss.item()))"
   ]
  },
  {
   "cell_type": "code",
   "execution_count": null,
   "metadata": {},
   "outputs": [],
   "source": [
    "#测试\n",
    "\n",
    "model.eval()\n",
    "test_data = [\"make\"]\n",
    "test_batch,target_batch, batch_size,hidcell= make_batch(test_data,word_dict,worddict_len,hidden_size)\n",
    "\n",
    "result = model(test_batch,hidcell)\n",
    "print(result)\n",
    "_,predict = torch.max(result,1)\n",
    "print(predict)\n",
    "\n"
   ]
  }
 ],
 "metadata": {
  "kernelspec": {
   "display_name": "test",
   "language": "python",
   "name": "python3"
  },
  "language_info": {
   "codemirror_mode": {
    "name": "ipython",
    "version": 3
   },
   "file_extension": ".py",
   "mimetype": "text/x-python",
   "name": "python",
   "nbconvert_exporter": "python",
   "pygments_lexer": "ipython3",
   "version": "3.9.0"
  }
 },
 "nbformat": 4,
 "nbformat_minor": 2
}
